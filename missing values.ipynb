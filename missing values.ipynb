{
 "cells": [
  {
   "cell_type": "markdown",
   "id": "4f98c5e2",
   "metadata": {},
   "source": [
    "<h1 style='color:#9D3582' > Done by Fatimah AlYami</h1>"
   ]
  },
  {
   "cell_type": "code",
   "execution_count": 524,
   "id": "dd86fcc8",
   "metadata": {},
   "outputs": [],
   "source": [
    "#importing the libraries\n",
    "import pandas as pd\n",
    "import numpy as np\n",
    "import matplotlib.pyplot as plt"
   ]
  },
  {
   "cell_type": "code",
   "execution_count": 525,
   "id": "4ab7d2e3",
   "metadata": {},
   "outputs": [],
   "source": [
    "df=pd.read_csv(\"burritos.csv\")"
   ]
  },
  {
   "cell_type": "code",
   "execution_count": 526,
   "id": "9ed2e3e9",
   "metadata": {},
   "outputs": [
    {
     "name": "stdout",
     "output_type": "stream",
     "text": [
      "<class 'pandas.core.frame.DataFrame'>\n",
      "RangeIndex: 423 entries, 0 to 422\n",
      "Data columns (total 66 columns):\n",
      " #   Column          Non-Null Count  Dtype  \n",
      "---  ------          --------------  -----  \n",
      " 0   Location        423 non-null    object \n",
      " 1   Burrito         423 non-null    object \n",
      " 2   Date            423 non-null    object \n",
      " 3   Neighborhood    92 non-null     object \n",
      " 4   Address         88 non-null     object \n",
      " 5   URL             87 non-null     object \n",
      " 6   Yelp            87 non-null     float64\n",
      " 7   Google          87 non-null     float64\n",
      " 8   Chips           26 non-null     object \n",
      " 9   Cost            416 non-null    float64\n",
      " 10  Hunger          420 non-null    float64\n",
      " 11  Mass (g)        22 non-null     float64\n",
      " 12  Density (g/mL)  22 non-null     float64\n",
      " 13  Length          284 non-null    float64\n",
      " 14  Circum          282 non-null    float64\n",
      " 15  Volume          282 non-null    float64\n",
      " 16  Tortilla        423 non-null    float64\n",
      " 17  Temp            403 non-null    float64\n",
      " 18  Meat            409 non-null    float64\n",
      " 19  Fillings        420 non-null    float64\n",
      " 20  Meat:filling    414 non-null    float64\n",
      " 21  Uniformity      421 non-null    float64\n",
      " 22  Salsa           398 non-null    float64\n",
      " 23  Synergy         421 non-null    float64\n",
      " 24  Wrap            420 non-null    float64\n",
      " 25  overall         421 non-null    float64\n",
      " 26  Rec             233 non-null    object \n",
      " 27  Reviewer        422 non-null    object \n",
      " 28  Notes           146 non-null    object \n",
      " 29  Unreliable      33 non-null     object \n",
      " 30  NonSD           7 non-null      object \n",
      " 31  Beef            180 non-null    object \n",
      " 32  Pico            159 non-null    object \n",
      " 33  Guac            155 non-null    object \n",
      " 34  Cheese          160 non-null    object \n",
      " 35  Fries           128 non-null    object \n",
      " 36  Sour cream      92 non-null     object \n",
      " 37  Pork            51 non-null     object \n",
      " 38  Chicken         21 non-null     object \n",
      " 39  Shrimp          21 non-null     object \n",
      " 40  Fish            6 non-null      object \n",
      " 41  Rice            36 non-null     object \n",
      " 42  Beans           35 non-null     object \n",
      " 43  Lettuce         11 non-null     object \n",
      " 44  Tomato          7 non-null      object \n",
      " 45  Bell peper      7 non-null      object \n",
      " 46  Carrots         1 non-null      object \n",
      " 47  Cabbage         8 non-null      object \n",
      " 48  Sauce           38 non-null     object \n",
      " 49  Salsa.1         7 non-null      object \n",
      " 50  Cilantro        15 non-null     object \n",
      " 51  Onion           17 non-null     object \n",
      " 52  Taquito         4 non-null      object \n",
      " 53  Pineapple       7 non-null      object \n",
      " 54  Ham             2 non-null      object \n",
      " 55  Chile relleno   4 non-null      object \n",
      " 56  Nopales         4 non-null      object \n",
      " 57  Lobster         1 non-null      object \n",
      " 58  Queso           0 non-null      float64\n",
      " 59  Egg             5 non-null      object \n",
      " 60  Mushroom        3 non-null      object \n",
      " 61  Bacon           3 non-null      object \n",
      " 62  Sushi           2 non-null      object \n",
      " 63  Avocado         13 non-null     object \n",
      " 64  Corn            3 non-null      object \n",
      " 65  Zucchini        1 non-null      object \n",
      "dtypes: float64(20), object(46)\n",
      "memory usage: 218.2+ KB\n"
     ]
    }
   ],
   "source": [
    "df.info()"
   ]
  },
  {
   "cell_type": "code",
   "execution_count": 527,
   "id": "8b5b303b",
   "metadata": {},
   "outputs": [
    {
     "data": {
      "text/html": [
       "<div>\n",
       "<style scoped>\n",
       "    .dataframe tbody tr th:only-of-type {\n",
       "        vertical-align: middle;\n",
       "    }\n",
       "\n",
       "    .dataframe tbody tr th {\n",
       "        vertical-align: top;\n",
       "    }\n",
       "\n",
       "    .dataframe thead th {\n",
       "        text-align: right;\n",
       "    }\n",
       "</style>\n",
       "<table border=\"1\" class=\"dataframe\">\n",
       "  <thead>\n",
       "    <tr style=\"text-align: right;\">\n",
       "      <th></th>\n",
       "      <th>Location</th>\n",
       "      <th>Burrito</th>\n",
       "      <th>Date</th>\n",
       "      <th>Neighborhood</th>\n",
       "      <th>Address</th>\n",
       "      <th>URL</th>\n",
       "      <th>Yelp</th>\n",
       "      <th>Google</th>\n",
       "      <th>Chips</th>\n",
       "      <th>Cost</th>\n",
       "      <th>...</th>\n",
       "      <th>Nopales</th>\n",
       "      <th>Lobster</th>\n",
       "      <th>Queso</th>\n",
       "      <th>Egg</th>\n",
       "      <th>Mushroom</th>\n",
       "      <th>Bacon</th>\n",
       "      <th>Sushi</th>\n",
       "      <th>Avocado</th>\n",
       "      <th>Corn</th>\n",
       "      <th>Zucchini</th>\n",
       "    </tr>\n",
       "  </thead>\n",
       "  <tbody>\n",
       "    <tr>\n",
       "      <th>0</th>\n",
       "      <td>Donato's taco shop</td>\n",
       "      <td>California</td>\n",
       "      <td>1/18/2016</td>\n",
       "      <td>Miramar</td>\n",
       "      <td>6780 Miramar Rd</td>\n",
       "      <td>http://donatostacoshop.net/</td>\n",
       "      <td>3.5</td>\n",
       "      <td>4.2</td>\n",
       "      <td>NaN</td>\n",
       "      <td>6.49</td>\n",
       "      <td>...</td>\n",
       "      <td>NaN</td>\n",
       "      <td>NaN</td>\n",
       "      <td>NaN</td>\n",
       "      <td>NaN</td>\n",
       "      <td>NaN</td>\n",
       "      <td>NaN</td>\n",
       "      <td>NaN</td>\n",
       "      <td>NaN</td>\n",
       "      <td>NaN</td>\n",
       "      <td>NaN</td>\n",
       "    </tr>\n",
       "    <tr>\n",
       "      <th>1</th>\n",
       "      <td>Oscar's Mexican food</td>\n",
       "      <td>California</td>\n",
       "      <td>1/24/2016</td>\n",
       "      <td>San Marcos</td>\n",
       "      <td>225 S Rancho Santa Fe Rd</td>\n",
       "      <td>http://www.yelp.com/biz/oscars-mexican-food-sa...</td>\n",
       "      <td>3.5</td>\n",
       "      <td>3.3</td>\n",
       "      <td>NaN</td>\n",
       "      <td>5.45</td>\n",
       "      <td>...</td>\n",
       "      <td>NaN</td>\n",
       "      <td>NaN</td>\n",
       "      <td>NaN</td>\n",
       "      <td>NaN</td>\n",
       "      <td>NaN</td>\n",
       "      <td>NaN</td>\n",
       "      <td>NaN</td>\n",
       "      <td>NaN</td>\n",
       "      <td>NaN</td>\n",
       "      <td>NaN</td>\n",
       "    </tr>\n",
       "    <tr>\n",
       "      <th>2</th>\n",
       "      <td>Oscar's Mexican food</td>\n",
       "      <td>Carnitas</td>\n",
       "      <td>1/24/2016</td>\n",
       "      <td>NaN</td>\n",
       "      <td>NaN</td>\n",
       "      <td>NaN</td>\n",
       "      <td>NaN</td>\n",
       "      <td>NaN</td>\n",
       "      <td>NaN</td>\n",
       "      <td>4.85</td>\n",
       "      <td>...</td>\n",
       "      <td>NaN</td>\n",
       "      <td>NaN</td>\n",
       "      <td>NaN</td>\n",
       "      <td>NaN</td>\n",
       "      <td>NaN</td>\n",
       "      <td>NaN</td>\n",
       "      <td>NaN</td>\n",
       "      <td>NaN</td>\n",
       "      <td>NaN</td>\n",
       "      <td>NaN</td>\n",
       "    </tr>\n",
       "    <tr>\n",
       "      <th>3</th>\n",
       "      <td>Oscar's Mexican food</td>\n",
       "      <td>Carne asada</td>\n",
       "      <td>1/24/2016</td>\n",
       "      <td>NaN</td>\n",
       "      <td>NaN</td>\n",
       "      <td>NaN</td>\n",
       "      <td>NaN</td>\n",
       "      <td>NaN</td>\n",
       "      <td>NaN</td>\n",
       "      <td>5.25</td>\n",
       "      <td>...</td>\n",
       "      <td>NaN</td>\n",
       "      <td>NaN</td>\n",
       "      <td>NaN</td>\n",
       "      <td>NaN</td>\n",
       "      <td>NaN</td>\n",
       "      <td>NaN</td>\n",
       "      <td>NaN</td>\n",
       "      <td>NaN</td>\n",
       "      <td>NaN</td>\n",
       "      <td>NaN</td>\n",
       "    </tr>\n",
       "    <tr>\n",
       "      <th>4</th>\n",
       "      <td>Pollos Maria</td>\n",
       "      <td>California</td>\n",
       "      <td>1/27/2016</td>\n",
       "      <td>Carlsbad</td>\n",
       "      <td>3055 Harding St</td>\n",
       "      <td>http://pollosmaria.com/</td>\n",
       "      <td>4.0</td>\n",
       "      <td>3.8</td>\n",
       "      <td>x</td>\n",
       "      <td>6.59</td>\n",
       "      <td>...</td>\n",
       "      <td>NaN</td>\n",
       "      <td>NaN</td>\n",
       "      <td>NaN</td>\n",
       "      <td>NaN</td>\n",
       "      <td>NaN</td>\n",
       "      <td>NaN</td>\n",
       "      <td>NaN</td>\n",
       "      <td>NaN</td>\n",
       "      <td>NaN</td>\n",
       "      <td>NaN</td>\n",
       "    </tr>\n",
       "  </tbody>\n",
       "</table>\n",
       "<p>5 rows × 66 columns</p>\n",
       "</div>"
      ],
      "text/plain": [
       "               Location      Burrito       Date Neighborhood  \\\n",
       "0    Donato's taco shop  California   1/18/2016      Miramar   \n",
       "1  Oscar's Mexican food  California   1/24/2016   San Marcos   \n",
       "2  Oscar's Mexican food     Carnitas  1/24/2016          NaN   \n",
       "3  Oscar's Mexican food  Carne asada  1/24/2016          NaN   \n",
       "4          Pollos Maria   California  1/27/2016     Carlsbad   \n",
       "\n",
       "                    Address  \\\n",
       "0           6780 Miramar Rd   \n",
       "1  225 S Rancho Santa Fe Rd   \n",
       "2                       NaN   \n",
       "3                       NaN   \n",
       "4           3055 Harding St   \n",
       "\n",
       "                                                 URL  Yelp  Google Chips  \\\n",
       "0                        http://donatostacoshop.net/   3.5     4.2   NaN   \n",
       "1  http://www.yelp.com/biz/oscars-mexican-food-sa...   3.5     3.3   NaN   \n",
       "2                                                NaN   NaN     NaN   NaN   \n",
       "3                                                NaN   NaN     NaN   NaN   \n",
       "4                            http://pollosmaria.com/   4.0     3.8     x   \n",
       "\n",
       "   Cost  ...  Nopales  Lobster  Queso  Egg  Mushroom  Bacon  Sushi  Avocado  \\\n",
       "0  6.49  ...      NaN      NaN    NaN  NaN       NaN    NaN    NaN      NaN   \n",
       "1  5.45  ...      NaN      NaN    NaN  NaN       NaN    NaN    NaN      NaN   \n",
       "2  4.85  ...      NaN      NaN    NaN  NaN       NaN    NaN    NaN      NaN   \n",
       "3  5.25  ...      NaN      NaN    NaN  NaN       NaN    NaN    NaN      NaN   \n",
       "4  6.59  ...      NaN      NaN    NaN  NaN       NaN    NaN    NaN      NaN   \n",
       "\n",
       "   Corn  Zucchini  \n",
       "0   NaN       NaN  \n",
       "1   NaN       NaN  \n",
       "2   NaN       NaN  \n",
       "3   NaN       NaN  \n",
       "4   NaN       NaN  \n",
       "\n",
       "[5 rows x 66 columns]"
      ]
     },
     "execution_count": 527,
     "metadata": {},
     "output_type": "execute_result"
    }
   ],
   "source": [
    "#The 5 First Rows\n",
    "df.head()"
   ]
  },
  {
   "cell_type": "code",
   "execution_count": 528,
   "id": "a00a4877",
   "metadata": {},
   "outputs": [
    {
     "data": {
      "text/plain": [
       "float"
      ]
     },
     "execution_count": 528,
     "metadata": {},
     "output_type": "execute_result"
    }
   ],
   "source": [
    "# What Data type is NaN \n",
    "# row 1 and column 57\n",
    "type(df.iloc[1,57])"
   ]
  },
  {
   "cell_type": "markdown",
   "id": "04994c7d",
   "metadata": {},
   "source": [
    "<h1 style='color:#0D12D5' > How Many Missing Values in each Column  ?</h1>"
   ]
  },
  {
   "cell_type": "code",
   "execution_count": 529,
   "id": "8cd19f9d",
   "metadata": {
    "scrolled": true
   },
   "outputs": [
    {
     "data": {
      "text/plain": [
       "Location          0\n",
       "Burrito           0\n",
       "Date              0\n",
       "Neighborhood    331\n",
       "Address         335\n",
       "               ... \n",
       "Bacon           420\n",
       "Sushi           421\n",
       "Avocado         410\n",
       "Corn            420\n",
       "Zucchini        422\n",
       "Length: 66, dtype: int64"
      ]
     },
     "execution_count": 529,
     "metadata": {},
     "output_type": "execute_result"
    }
   ],
   "source": [
    "# Missing values in each column. \n",
    "df.isnull().sum()"
   ]
  },
  {
   "cell_type": "markdown",
   "id": "04aa6c7d",
   "metadata": {},
   "source": [
    "<h1 style='color:#00741B' >  Total Amount of Missing Values   </h1>"
   ]
  },
  {
   "cell_type": "code",
   "execution_count": 530,
   "id": "0f72cee9",
   "metadata": {},
   "outputs": [
    {
     "data": {
      "text/plain": [
       "<AxesSubplot:title={'center':'Total Number of NaN values in each column'}>"
      ]
     },
     "execution_count": 530,
     "metadata": {},
     "output_type": "execute_result"
    },
    {
     "data": {
      "image/png": "[encoded data removed]",
      "text/plain": [
       "<Figure size 2100x2100 with 1 Axes>"
      ]
     },
     "metadata": {
      "needs_background": "light"
     },
     "output_type": "display_data"
    }
   ],
   "source": [
    "# Bar plot to visualize the total NaN values in each column\n",
    "plt.figure(figsize=(14,14), dpi= 150)\n",
    "df.isnull().sum().plot(kind=\"barh\", title = \"Total Number of NaN values in each column\")"
   ]
  },
  {
   "cell_type": "markdown",
   "id": "96972460",
   "metadata": {},
   "source": [
    "<h1 style=\"color:red\">Mean </h1>\n",
    "\n",
    "\n",
    "##### Imputing Mean in column Yelp"
   ]
  },
  {
   "cell_type": "code",
   "execution_count": 531,
   "id": "8f684aa9",
   "metadata": {},
   "outputs": [
    {
     "data": {
      "text/plain": [
       "dtype('float64')"
      ]
     },
     "execution_count": 531,
     "metadata": {},
     "output_type": "execute_result"
    }
   ],
   "source": [
    "df['Yelp'].dtype"
   ]
  },
  {
   "cell_type": "code",
   "execution_count": 532,
   "id": "5fdfa03b",
   "metadata": {},
   "outputs": [
    {
     "data": {
      "text/plain": [
       "Text(0.5, 0, 'Yelp Values')"
      ]
     },
     "execution_count": 532,
     "metadata": {},
     "output_type": "execute_result"
    },
    {
     "data": {
      "image/png": "[encoded data removed]",
      "text/plain": [
       "<Figure size 432x288 with 1 Axes>"
      ]
     },
     "metadata": {
      "needs_background": "light"
     },
     "output_type": "display_data"
    }
   ],
   "source": [
    "#Histogram with 5 bins to display data distribution\n",
    "df['Yelp'].plot(kind=\"hist\",bins=5,title=\"Before handling the missing values of column (Yelp)\",color='r')\n",
    "plt.xlabel(\"Yelp Values\")\n"
   ]
  },
  {
   "cell_type": "code",
   "execution_count": 533,
   "id": "cedf0f9e",
   "metadata": {},
   "outputs": [
    {
     "data": {
      "text/plain": [
       "0.22600106923282556"
      ]
     },
     "execution_count": 533,
     "metadata": {},
     "output_type": "execute_result"
    }
   ],
   "source": [
    "# Variance Calculation before handling NaN values\n",
    "df['Yelp'].var()"
   ]
  },
  {
   "cell_type": "code",
   "execution_count": 534,
   "id": "682715b3",
   "metadata": {},
   "outputs": [
    {
     "data": {
      "text/plain": [
       "4"
      ]
     },
     "execution_count": 534,
     "metadata": {},
     "output_type": "execute_result"
    }
   ],
   "source": [
    "#mean\n",
    "yelp_mean=round(df['Yelp'].mean())\n",
    "yelp_mean"
   ]
  },
  {
   "cell_type": "code",
   "execution_count": 535,
   "id": "6ccc9e20",
   "metadata": {},
   "outputs": [
    {
     "data": {
      "text/plain": [
       "0"
      ]
     },
     "execution_count": 535,
     "metadata": {},
     "output_type": "execute_result"
    }
   ],
   "source": [
    "#Replace the NaN values with the mean\n",
    "df['Yelp']=df['Yelp'].fillna(yelp_mean)\n",
    "df['Yelp'].isnull().sum()"
   ]
  },
  {
   "cell_type": "markdown",
   "id": "3ff1249d",
   "metadata": {},
   "source": [
    "###### Has The Data Changed ?\n",
    "Yes, it has. "
   ]
  },
  {
   "cell_type": "code",
   "execution_count": 536,
   "id": "6781ccdf",
   "metadata": {},
   "outputs": [
    {
     "data": {
      "text/plain": [
       "Text(0.5, 0, 'Yelp Values')"
      ]
     },
     "execution_count": 536,
     "metadata": {},
     "output_type": "execute_result"
    },
    {
     "data": {
      "image/png": "[encoded data removed]",
      "text/plain": [
       "<Figure size 432x288 with 1 Axes>"
      ]
     },
     "metadata": {
      "needs_background": "light"
     },
     "output_type": "display_data"
    }
   ],
   "source": [
    "df['Yelp'].plot(kind=\"hist\",bins=5,title=\"After handling the missing values of column (Yelp)\",color=\"r\")\n",
    "plt.xlabel(\"Yelp Values\")\n"
   ]
  },
  {
   "cell_type": "code",
   "execution_count": 537,
   "id": "8ea1c0c2",
   "metadata": {},
   "outputs": [
    {
     "data": {
      "text/plain": [
       "0.04813496465104753"
      ]
     },
     "execution_count": 537,
     "metadata": {},
     "output_type": "execute_result"
    }
   ],
   "source": [
    "# Variance Calculation after handling NaN values\n",
    "df['Yelp'].var()"
   ]
  },
  {
   "cell_type": "markdown",
   "id": "b6be8e6c",
   "metadata": {},
   "source": [
    "<h1 style=\"color:green\"> Median </h1>\n",
    "\n",
    "\n",
    "##### Imputing Median in column Mass (g)"
   ]
  },
  {
   "cell_type": "code",
   "execution_count": 538,
   "id": "06b59747",
   "metadata": {},
   "outputs": [
    {
     "data": {
      "text/plain": [
       "dtype('float64')"
      ]
     },
     "execution_count": 538,
     "metadata": {},
     "output_type": "execute_result"
    }
   ],
   "source": [
    "df['Mass (g)'].dtype"
   ]
  },
  {
   "cell_type": "code",
   "execution_count": 539,
   "id": "94827b8f",
   "metadata": {},
   "outputs": [
    {
     "data": {
      "text/plain": [
       "Text(0.5, 0, 'Mass (g) Values')"
      ]
     },
     "execution_count": 539,
     "metadata": {},
     "output_type": "execute_result"
    },
    {
     "data": {
      "image/png": "[encoded data removed]",
      "text/plain": [
       "<Figure size 432x288 with 1 Axes>"
      ]
     },
     "metadata": {
      "needs_background": "light"
     },
     "output_type": "display_data"
    }
   ],
   "source": [
    "#Histogram with 10 bins to display data distribution\n",
    "df['Mass (g)'].plot(kind=\"hist\",bins=10,title=\"Before Handling the Missing Values of column (Mass (g))\",color=\"g\")\n",
    "plt.xlabel(\"Mass (g) Values\")"
   ]
  },
  {
   "cell_type": "code",
   "execution_count": 540,
   "id": "e51a910c",
   "metadata": {},
   "outputs": [
    {
     "data": {
      "text/plain": [
       "20864.536796536802"
      ]
     },
     "execution_count": 540,
     "metadata": {},
     "output_type": "execute_result"
    }
   ],
   "source": [
    "# Variance Calculation before handling NaN values\n",
    "df['Mass (g)'].var()"
   ]
  },
  {
   "cell_type": "code",
   "execution_count": 541,
   "id": "44847675",
   "metadata": {},
   "outputs": [
    {
     "data": {
      "text/plain": [
       "540"
      ]
     },
     "execution_count": 541,
     "metadata": {},
     "output_type": "execute_result"
    }
   ],
   "source": [
    "#Median\n",
    "mass_median=round(df['Mass (g)'].median())\n",
    "mass_median"
   ]
  },
  {
   "cell_type": "code",
   "execution_count": 542,
   "id": "56238e72",
   "metadata": {},
   "outputs": [
    {
     "data": {
      "text/plain": [
       "0"
      ]
     },
     "execution_count": 542,
     "metadata": {},
     "output_type": "execute_result"
    }
   ],
   "source": [
    "#Replace the missing values with the median\n",
    "\n",
    "df['Mass (g)']=df['Mass (g)'].fillna(mass_median)\n",
    "df['Mass (g)'].isnull().sum()\n",
    "\n",
    "#df['Mass (g)']=df['Mass (g)'].replace(np.NaN, mass_median)"
   ]
  },
  {
   "cell_type": "markdown",
   "id": "b45f86c5",
   "metadata": {},
   "source": [
    "###### Has The Data Changed ?\n",
    "Yes, it has. "
   ]
  },
  {
   "cell_type": "code",
   "execution_count": 543,
   "id": "4ae5bb52",
   "metadata": {},
   "outputs": [
    {
     "data": {
      "text/plain": [
       "Text(0.5, 0, 'Mass (g) Values')"
      ]
     },
     "execution_count": 543,
     "metadata": {},
     "output_type": "execute_result"
    },
    {
     "data": {
      "image/png": "[encoded data removed]",
      "text/plain": [
       "<Figure size 432x288 with 1 Axes>"
      ]
     },
     "metadata": {
      "needs_background": "light"
     },
     "output_type": "display_data"
    }
   ],
   "source": [
    "df['Mass (g)'].plot(kind=\"hist\",bins=10,title=\"After Handling the Missing Values of column (Mass (g))\",color='g')\n",
    "plt.xlabel(\"Mass (g) Values\")"
   ]
  },
  {
   "cell_type": "code",
   "execution_count": 544,
   "id": "4265769e",
   "metadata": {},
   "outputs": [
    {
     "data": {
      "text/plain": [
       "1040.171265951844"
      ]
     },
     "execution_count": 544,
     "metadata": {},
     "output_type": "execute_result"
    }
   ],
   "source": [
    "# Variance Calculation after handling NaN values\n",
    "df['Mass (g)'].var()"
   ]
  },
  {
   "cell_type": "markdown",
   "id": "b36f4d6d",
   "metadata": {},
   "source": [
    "<h1 style=\"color:Blue\">Mode </h1>\n",
    "\n",
    "\n",
    "##### Imputing Mode in column Density (g/mL)"
   ]
  },
  {
   "cell_type": "code",
   "execution_count": 545,
   "id": "496de0cf",
   "metadata": {},
   "outputs": [
    {
     "data": {
      "text/plain": [
       "dtype('float64')"
      ]
     },
     "execution_count": 545,
     "metadata": {},
     "output_type": "execute_result"
    }
   ],
   "source": [
    "df['Density (g/mL)'].dtype"
   ]
  },
  {
   "cell_type": "code",
   "execution_count": 546,
   "id": "879528c0",
   "metadata": {},
   "outputs": [
    {
     "data": {
      "text/plain": [
       "0.006475133705454633"
      ]
     },
     "execution_count": 546,
     "metadata": {},
     "output_type": "execute_result"
    }
   ],
   "source": [
    "# Variance Calculation before handling NaN values\n",
    "df['Density (g/mL)'].var()"
   ]
  },
  {
   "cell_type": "code",
   "execution_count": 547,
   "id": "a43538d7",
   "metadata": {},
   "outputs": [
    {
     "data": {
      "text/plain": [
       "Text(0.5, 0, 'Density (g/mL) Values')"
      ]
     },
     "execution_count": 547,
     "metadata": {},
     "output_type": "execute_result"
    },
    {
     "data": {
      "image/png": "[encoded data removed]",
      "text/plain": [
       "<Figure size 432x288 with 1 Axes>"
      ]
     },
     "metadata": {
      "needs_background": "light"
     },
     "output_type": "display_data"
    }
   ],
   "source": [
    "#Histogram with 10 bins to display data distribution\n",
    "df['Density (g/mL)'].plot(kind=\"hist\",bins=10,title=\"Before Handling the Missing Values of column (Density (g/mL))\",color=\"b\")\n",
    "plt.xlabel(\"Density (g/mL) Values\")"
   ]
  },
  {
   "cell_type": "code",
   "execution_count": 548,
   "id": "9ffa2d72",
   "metadata": {},
   "outputs": [
    {
     "data": {
      "text/plain": [
       "0.625"
      ]
     },
     "execution_count": 548,
     "metadata": {},
     "output_type": "execute_result"
    }
   ],
   "source": [
    "Density_mode=df['Density (g/mL)'].mode()[0]\n",
    "Density_mode"
   ]
  },
  {
   "cell_type": "code",
   "execution_count": 549,
   "id": "b9770c14",
   "metadata": {},
   "outputs": [
    {
     "data": {
      "text/plain": [
       "0"
      ]
     },
     "execution_count": 549,
     "metadata": {},
     "output_type": "execute_result"
    }
   ],
   "source": [
    "#Replace the missing values with the mode\n",
    "\n",
    "df['Density (g/mL)']=df['Density (g/mL)'].replace(np.NaN,Density_mode)\n",
    "df[\"Density (g/mL)\"].isnull().sum()"
   ]
  },
  {
   "cell_type": "markdown",
   "id": "df780e22",
   "metadata": {},
   "source": [
    "###### Has The Data Changed ?\n",
    "Yes, it has. "
   ]
  },
  {
   "cell_type": "code",
   "execution_count": 550,
   "id": "bbe0ddb7",
   "metadata": {},
   "outputs": [
    {
     "data": {
      "text/plain": [
       "Text(0.5, 0, 'Density (g/mL) Values')"
      ]
     },
     "execution_count": 550,
     "metadata": {},
     "output_type": "execute_result"
    },
    {
     "data": {
      "image/png": "[encoded data removed]",
      "text/plain": [
       "<Figure size 432x288 with 1 Axes>"
      ]
     },
     "metadata": {
      "needs_background": "light"
     },
     "output_type": "display_data"
    }
   ],
   "source": [
    "df['Density (g/mL)'].plot(kind=\"hist\",bins=10,title=\"After Handling the Missing Values of column (Density (g/mL))\",color='b')\n",
    "plt.xlabel(\"Density (g/mL) Values\")"
   ]
  },
  {
   "cell_type": "code",
   "execution_count": 551,
   "id": "3cc160d7",
   "metadata": {},
   "outputs": [
    {
     "data": {
      "text/plain": [
       "0.0004471501141062663"
      ]
     },
     "execution_count": 551,
     "metadata": {},
     "output_type": "execute_result"
    }
   ],
   "source": [
    "# Variance Calculation after handling NaN values\n",
    "df['Density (g/mL)'].var()"
   ]
  },
  {
   "cell_type": "markdown",
   "id": "83da8b7a",
   "metadata": {},
   "source": [
    "<h1 style=\"color:darkorange\">Replacing with Own Value </h1>\n",
    "\n",
    "\n",
    "##### Imputing my own value in column Google"
   ]
  },
  {
   "cell_type": "code",
   "execution_count": 552,
   "id": "a3b36648",
   "metadata": {},
   "outputs": [
    {
     "data": {
      "text/plain": [
       "dtype('float64')"
      ]
     },
     "execution_count": 552,
     "metadata": {},
     "output_type": "execute_result"
    }
   ],
   "source": [
    "df['Google'].dtype"
   ]
  },
  {
   "cell_type": "code",
   "execution_count": 553,
   "id": "da4ff4c5",
   "metadata": {},
   "outputs": [
    {
     "data": {
      "text/plain": [
       "Text(0.5, 0, 'Google Values')"
      ]
     },
     "execution_count": 553,
     "metadata": {},
     "output_type": "execute_result"
    },
    {
     "data": {
      "image/png": "[encoded data removed]",
      "text/plain": [
       "<Figure size 432x288 with 1 Axes>"
      ]
     },
     "metadata": {
      "needs_background": "light"
     },
     "output_type": "display_data"
    }
   ],
   "source": [
    "#Histogram with 10 bins to display data distribution\n",
    "df[\"Google\"].plot(kind=\"hist\", bins=20, title=\"Histogram of Column Google without Handling NaN Values\",color=\"orange\");\n",
    "plt.xlabel(\"Google Values\")"
   ]
  },
  {
   "cell_type": "code",
   "execution_count": 554,
   "id": "fb445105",
   "metadata": {},
   "outputs": [
    {
     "data": {
      "text/plain": [
       "-1"
      ]
     },
     "execution_count": 554,
     "metadata": {},
     "output_type": "execute_result"
    }
   ],
   "source": [
    "google_own=-1\n",
    "google_own"
   ]
  },
  {
   "cell_type": "code",
   "execution_count": 555,
   "id": "d62236c0",
   "metadata": {},
   "outputs": [],
   "source": [
    "df[\"Google\"]=df[\"Google\"].fillna(google_own)"
   ]
  },
  {
   "cell_type": "code",
   "execution_count": 556,
   "id": "b91644c2",
   "metadata": {},
   "outputs": [
    {
     "data": {
      "text/plain": [
       "Text(0.5, 0, 'Google Values')"
      ]
     },
     "execution_count": 556,
     "metadata": {},
     "output_type": "execute_result"
    },
    {
     "data": {
      "image/png": "[encoded data removed]",
      "text/plain": [
       "<Figure size 432x288 with 1 Axes>"
      ]
     },
     "metadata": {
      "needs_background": "light"
     },
     "output_type": "display_data"
    }
   ],
   "source": [
    "df[\"Google\"].plot(kind=\"hist\", bins=20, title=\"Histogram of Column Google After Handling NaN Values\",color=\"orange\");\n",
    "plt.xlabel(\"Google Values\")"
   ]
  },
  {
   "cell_type": "markdown",
   "id": "0ab2f22a",
   "metadata": {},
   "source": [
    "<h1 style=\"color:#4FBA56\">Forward Filling Column  </h1>"
   ]
  },
  {
   "cell_type": "code",
   "execution_count": 557,
   "id": "fb2263ef",
   "metadata": {},
   "outputs": [
    {
     "data": {
      "text/plain": [
       "0      3.5\n",
       "1      2.5\n",
       "2      3.0\n",
       "3      3.0\n",
       "4      3.5\n",
       "      ... \n",
       "418    NaN\n",
       "419    3.5\n",
       "420    3.7\n",
       "421    5.0\n",
       "422    4.0\n",
       "Name: Fillings, Length: 423, dtype: float64"
      ]
     },
     "execution_count": 557,
     "metadata": {},
     "output_type": "execute_result"
    }
   ],
   "source": [
    "#Column Fillings\n",
    "df['Fillings']"
   ]
  },
  {
   "cell_type": "code",
   "execution_count": 558,
   "id": "8a0e2cf5",
   "metadata": {},
   "outputs": [
    {
     "data": {
      "text/plain": [
       "0      3.5\n",
       "1      2.5\n",
       "2      3.0\n",
       "3      3.0\n",
       "4      3.5\n",
       "      ... \n",
       "418    4.5\n",
       "419    3.5\n",
       "420    3.7\n",
       "421    5.0\n",
       "422    4.0\n",
       "Name: Fillings, Length: 423, dtype: float64"
      ]
     },
     "execution_count": 558,
     "metadata": {},
     "output_type": "execute_result"
    }
   ],
   "source": [
    "df['Fillings'].fillna(method=\"ffill\")"
   ]
  },
  {
   "cell_type": "markdown",
   "id": "ced6a9f0",
   "metadata": {},
   "source": [
    "<h1 style=\"color:#769CD2\">Backward Filling Column  </h1>"
   ]
  },
  {
   "cell_type": "code",
   "execution_count": 559,
   "id": "823cf811",
   "metadata": {},
   "outputs": [
    {
     "data": {
      "text/plain": [
       "0       NaN\n",
       "1       NaN\n",
       "2       NaN\n",
       "3       NaN\n",
       "4       NaN\n",
       "       ... \n",
       "418    0.57\n",
       "419    1.02\n",
       "420    0.77\n",
       "421    1.07\n",
       "422    0.61\n",
       "Name: Volume, Length: 423, dtype: float64"
      ]
     },
     "execution_count": 559,
     "metadata": {},
     "output_type": "execute_result"
    }
   ],
   "source": [
    "# Column Volume\n",
    "df['Volume']"
   ]
  },
  {
   "cell_type": "code",
   "execution_count": 271,
   "id": "783c79ee",
   "metadata": {},
   "outputs": [
    {
     "data": {
      "text/plain": [
       "0      0.77\n",
       "1      0.77\n",
       "2      0.77\n",
       "3      0.77\n",
       "4      0.77\n",
       "       ... \n",
       "418    0.57\n",
       "419    1.02\n",
       "420    0.77\n",
       "421    1.07\n",
       "422    0.61\n",
       "Name: Volume, Length: 423, dtype: float64"
      ]
     },
     "execution_count": 271,
     "metadata": {},
     "output_type": "execute_result"
    }
   ],
   "source": [
    "#Backword filling\n",
    "df['Volume'].fillna(method=\"bfill\")"
   ]
  }
 ],
 "metadata": {
  "kernelspec": {
   "display_name": "Python 3",
   "language": "python",
   "name": "python3"
  },
  "language_info": {
   "codemirror_mode": {
    "name": "ipython",
    "version": 3
   },
   "file_extension": ".py",
   "mimetype": "text/x-python",
   "name": "python",
   "nbconvert_exporter": "python",
   "pygments_lexer": "ipython3",
   "version": "3.8.8"
  }
 },
 "nbformat": 4,
 "nbformat_minor": 5
}
